{
  "nbformat": 4,
  "nbformat_minor": 0,
  "metadata": {
    "colab": {
      "provenance": [],
      "include_colab_link": true
    },
    "kernelspec": {
      "name": "python3",
      "display_name": "Python 3"
    },
    "language_info": {
      "name": "python"
    }
  },
  "cells": [
    {
      "cell_type": "markdown",
      "metadata": {
        "id": "view-in-github",
        "colab_type": "text"
      },
      "source": [
        "<a href=\"https://colab.research.google.com/github/MarcoAlejandroSoto/phytonCasos/blob/main/Caso19.ipynb\" target=\"_parent\"><img src=\"https://colab.research.google.com/assets/colab-badge.svg\" alt=\"Open In Colab\"/></a>"
      ]
    },
    {
      "cell_type": "markdown",
      "source": [
        "# Transformación de variables aleatorias\n",
        "\n",
        "¿Qué significa transformar variables aletorias ?\n",
        "Por ejemplo, la transformación inversa es X=1±√YX = 1 ± Y, y existen dos valores de X para cualquier valor dado de Y>0 (figura 7.1, panel izquierdo). Sin embargo, si la variable aleatoria X sólo está definida para X>2, entonces la transformación es una función uno a uno\n",
        "\n",
        "¿Para qué se utiliza transformar variables aleatorias?\n",
        "La variable aleatoria es un concepto probabilístico que permite el paso del cálculo de probabilidades de eventos al estudio de las distribuciones. Una de sus principales facetas es la vinculación que mantiene con la variable estadística y que sienta las bases para el estudio de la inferencia estadística.\n",
        "\n",
        "Que tipo de transformaciones de variables aleatorias se pueden hacer?\n",
        "\n",
        "Ejemplos en Python de transformar variables discretas a continuas.\n",
        "\n",
        "Descripción de cada ejercicio\n",
        "\n",
        "\n",
        "\n",
        "\n",
        "\n"
      ],
      "metadata": {
        "id": "nwoolIAkzRut"
      }
    },
    {
      "cell_type": "markdown",
      "source": [
        "# Fundamento teórico\n",
        "\n",
        "La transformación de variables aleatorias es un proceso fundamental en la estadística y la probabilidad, y se utiliza por varias razones, incluyendo:\n",
        "\n",
        "- Normalización: A menudo se requiere trabajar con distribuciones específicas, como la distribución normal estándar (media igual a 0 y desviación estándar igual a 1). La transformación se usa para convertir una variable aleatoria en una distribución normal estándar.\n",
        "\n",
        "- Simplificación: Algunas distribuciones son más fáciles de trabajar que otras. La transformación se utiliza para convertir variables aleatorias en distribuciones más simples o en distribuciones conocidas.\n",
        "\n",
        "- Comparación de datos: Cuando se desean comparar dos conjuntos de datos con diferentes distribuciones, se pueden transformar ambas distribuciones para que sean comparables.\n",
        "\n",
        "- Estabilización de varianza: En estadísticas, especialmente en análisis de regresión, es común que las varianzas de las variables dependientes no sean constantes en todo el rango de los valores predictores. La transformación se utiliza para estabilizar la varianza y hacer que los residuos sean homocedásticos.\n",
        "\n",
        "- Simplificación del cálculo: Algunas transformaciones simplifican los cálculos en análisis estadísticos y probabilísticos, lo que facilita la obtención de soluciones analíticas o aproximadas.\n",
        "\n",
        "- Conformidad con supuestos estadísticos: Algunos métodos estadísticos requieren que los datos cumplan ciertos supuestos (por ejemplo, normalidad o linealidad). La transformación puede ayudar a cumplir estos supuestos.\n",
        "\n",
        "- Detección de valores atípicos: La transformación a menudo se utiliza para resaltar valores atípicos (outliers) en un conjunto de datos.\n",
        "\n",
        "- Simplificación de distribuciones marginales: En el análisis de datos multivariados, la transformación se utiliza para simplificar las distribuciones marginales y hacer que los cálculos sean más manejables.\n"
      ],
      "metadata": {
        "id": "_-UiMPnJ1rns"
      }
    }
  ]
}