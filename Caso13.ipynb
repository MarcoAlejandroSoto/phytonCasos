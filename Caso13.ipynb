{
  "nbformat": 4,
  "nbformat_minor": 0,
  "metadata": {
    "colab": {
      "provenance": [],
      "include_colab_link": true
    },
    "kernelspec": {
      "name": "python3",
      "display_name": "Python 3"
    },
    "language_info": {
      "name": "python"
    }
  },
  "cells": [
    {
      "cell_type": "markdown",
      "metadata": {
        "id": "view-in-github",
        "colab_type": "text"
      },
      "source": [
        "<a href=\"https://colab.research.google.com/github/MarcoAlejandroSoto/phytonCasos/blob/main/Caso13.ipynb\" target=\"_parent\"><img src=\"https://colab.research.google.com/assets/colab-badge.svg\" alt=\"Open In Colab\"/></a>"
      ]
    },
    {
      "cell_type": "markdown",
      "source": [
        "# Variables aleatorias continuas. Distribución Uniforme\n",
        "\n",
        "Existen distintas distribuciones que permiten tratar con variables aleatoris continuas\n",
        "\n",
        "- **Distribución uniforme continua**\n",
        "- Distribución normal\n",
        "- Distribución t student\n",
        "- Distribucuón exponencial\n",
        "- Distribución chi cuadrada\n",
        "- Distribución f de Fisher\n",
        "- Entre otras....\n",
        "\n",
        "\n"
      ],
      "metadata": {
        "id": "_5vJFa_U0tJB"
      }
    },
    {
      "cell_type": "markdown",
      "source": [
        "# Distribución uniforme\n",
        "\n",
        "La distribución uniforme continua es una familia de distribuciones de probabilidad para variables aleatorias continuas, tales que para cada miembro de la familia, todos los intervalos de igual longitud en la distribución en su rango son igualmente probables. El dominio está definido por dos parámetros, a  y b, que son sus valores mínimo y máximo respectivamente.\n",
        "\n",
        "\n",
        "La distribución o modelo uniforme puede considerarse como proveniente de un proceso de extracción aleatoria .El planteamiento radica en el hecho de que la probabilidad se distribuye uniformemente a lo largo de un intervalo . Así : dada una variable aleatoria continua, x\n",
        " , definida en el intervalo [a,b]\n",
        " de la recta real, se dice que x\n",
        " tiene una distribución uniforme en el intervalo [a,b].\n",
        "\n",
        "\n",
        "¿En dónde se utiliza?\n",
        "\n",
        "Todos los valores en un intervalo tienen la misma probabilidad.\n",
        "Se usa para modelar situaciones en las que todas las observaciones son igualmente probables, como en algunas simulaciones o muestreos.\n",
        "\n",
        "### Fórmula de la densidad\n",
        "\n",
        "$$\n",
        "f(x) =\n",
        "\\begin{cases}\n",
        "\\frac{1}{b-a} &,\\, \\text{para }a\\leq x \\leq b ,\\\\\n",
        "0&,\\, \\text{en cualquier otro caso }\n",
        "\\end{cases}\n",
        "$$\n",
        "\n",
        "\n"
      ],
      "metadata": {
        "id": "-nh4V2nx1ED_"
      }
    },
    {
      "cell_type": "markdown",
      "source": [
        "# Objetivo\n",
        "\n",
        "Generar n números aleatorios de la disribución continua y visualizar su histograma y densidad."
      ],
      "metadata": {
        "id": "g9hFvAlGRhNj"
      }
    },
    {
      "cell_type": "markdown",
      "source": [
        "# Desarrollo\n",
        "\n",
        "Existen diversas alternativas para generar números aleatorios de variables continuas en Python.\n",
        "\n",
        "Este caso se ajsutará a utilizar la bilioteca *from scipy.stats* y la correspondiente distribución.\n"
      ],
      "metadata": {
        "id": "IbfLw-Ez1WH7"
      }
    },
    {
      "cell_type": "markdown",
      "source": [
        "## Cargar librerias\n"
      ],
      "metadata": {
        "id": "atulLINc1XyU"
      }
    },
    {
      "cell_type": "code",
      "source": [
        "import random\n",
        "import numpy as np\n",
        "import pandas as pd\n",
        "import seaborn as sns\n",
        "import matplotlib.pyplot as plt\n",
        "\n",
        "from scipy.stats import uniform  # uniforme continua\n",
        "from scipy.stats import norm # normal\n",
        "\n",
        "# from IPython.display import display, HTML # Para html tablas ..."
      ],
      "metadata": {
        "id": "x3zc4lwh1ZXt"
      },
      "execution_count": null,
      "outputs": []
    },
    {
      "cell_type": "markdown",
      "source": [
        "## Crear funciones\n",
        "\n"
      ],
      "metadata": {
        "id": "0GG79nHh1biF"
      }
    },
    {
      "cell_type": "code",
      "source": [
        "def f_visualizar_histograma_continua (datos, k):\n",
        "  # Crear un gráfico de distribución de la variable continua\n",
        "  sns.histplot(data=datos, kde=True)\n",
        "  plt.xlabel(datos.columns[0])\n",
        "  plt.ylabel('Frecuencia')\n",
        "  plt.title('Distribución de Variable Continua')\n",
        "  plt.show()\n",
        "\n",
        "# Recibe una datos con una variable continua y el número de cortes o clases\n",
        "# que sirven para construir tabla basados en los k clases\n",
        "def f_construye_tabla_distribucion_continua(datos, k):\n",
        "  # Crear una tabla de frecuencia\n",
        "  tabla_frecuencia = pd.cut(datos.iloc[:, 0], bins=k, include_lowest=True).value_counts().reset_index()\n",
        "  tabla_frecuencia.columns = ['Clase', 'Frec']\n",
        "  # tabla_frecuencia\n",
        "\n",
        "  # Ordenar la tabla de frecuencia por el intervalo\n",
        "  tabla_frecuencia = tabla_frecuencia.sort_values(by='Clase')\n",
        "  tabla_frecuencia = tabla_frecuencia.reset_index(drop=True) # Regenera index\n",
        "\n",
        "  # Generar columnas siguientes\n",
        "  tabla_frecuencia['Frec Rel'] = tabla_frecuencia['Frec'] / n\n",
        "  tabla_frecuencia['Frec Porc'] = tabla_frecuencia['Frec'] / n * 100\n",
        "  tabla_frecuencia['Frec Ac'] = tabla_frecuencia['Frec'].cumsum()\n",
        "\n",
        "  return tabla_frecuencia"
      ],
      "metadata": {
        "id": "yMpcKyYh4QEe"
      },
      "execution_count": null,
      "outputs": []
    },
    {
      "cell_type": "markdown",
      "source": [
        "## Sembrar la semilla\n"
      ],
      "metadata": {
        "id": "c_s7jK_O5GlO"
      }
    },
    {
      "cell_type": "code",
      "source": [
        "random.seed(2023) ## semilla año 2023"
      ],
      "metadata": {
        "id": "2HosQ1sn5IXG"
      },
      "execution_count": null,
      "outputs": []
    },
    {
      "cell_type": "markdown",
      "source": [
        "### Ejercicio Pizza\n",
        "\n",
        "La entrega de Pizzas llega entre 15 y 45 minutos de manera uniforme. Simular 100 entregas y luego calcular la probabilida de que la entrega llegue entre 20 y 30 minutos."
      ],
      "metadata": {
        "id": "xAzHJjUFR4Z3"
      }
    },
    {
      "cell_type": "code",
      "source": [
        "# Generar 100 números aleatorios en una distribución uniforme entre 15 y 45 minutos\n",
        "min = 15\n",
        "max = 45 - min # o sea 30 a partir de 15 que da 45 el valor máximo\n",
        "n = 100\n",
        "\n",
        "# Crear una variable aleatoria uniforme continua\n",
        "uniform_rv = uniform(loc = min, scale = max)  # los define el inicio 15 y scale la amplitud\n",
        "\n",
        "# Generar números aleatorios a partir de la distribución\n",
        "numeros_aleatorios = uniform_rv.rvs(size=n)\n",
        "\n",
        "\n",
        "# Imprimir los números aleatorios\n",
        "np.round(numeros_aleatorios, 4)"
      ],
      "metadata": {
        "colab": {
          "base_uri": "https://localhost:8080/"
        },
        "id": "wSNy8-ql1iFF",
        "outputId": "d3e0ae79-920d-4c48-e7b4-92718a363696"
      },
      "execution_count": null,
      "outputs": [
        {
          "output_type": "execute_result",
          "data": {
            "text/plain": [
              "array([28.5126, 26.3208, 37.2774, 38.2457, 36.0224, 33.7156, 43.3339,\n",
              "       29.7657, 44.6162, 37.9517, 29.9505, 21.8695, 17.4088, 43.223 ,\n",
              "       24.3202, 16.95  , 42.1656, 36.8816, 25.895 , 20.0291, 16.3687,\n",
              "       25.1761, 15.8985, 32.3167, 35.6268, 20.4386, 29.5614, 21.6084,\n",
              "       42.2082, 19.5506, 39.4935, 15.9308, 20.0283, 44.5441, 32.0131,\n",
              "       23.501 , 23.895 , 42.2733, 30.7183, 39.6542, 32.4447, 42.3077,\n",
              "       26.0112, 17.5898, 22.0023, 32.4713, 33.2337, 20.5017, 21.2874,\n",
              "       33.4965, 34.6252, 37.1714, 41.4572, 43.0812, 15.4144, 16.8763,\n",
              "       26.923 , 34.3334, 32.357 , 28.052 , 31.8397, 20.0262, 29.9371,\n",
              "       20.7034, 31.8983, 23.1545, 19.1566, 25.7277, 44.9362, 30.5532,\n",
              "       33.6154, 18.322 , 30.3105, 34.7384, 37.6799, 28.4004, 41.1362,\n",
              "       24.3937, 15.1956, 28.8388, 17.106 , 40.7972, 20.7243, 34.6562,\n",
              "       17.8586, 18.8983, 35.0298, 40.4588, 23.3568, 15.6562, 42.2127,\n",
              "       43.8318, 40.5993, 15.1439, 23.6363, 28.2213, 28.1317, 22.6841,\n",
              "       15.6925, 24.8389])"
            ]
          },
          "metadata": {},
          "execution_count": 4
        }
      ]
    },
    {
      "cell_type": "markdown",
      "source": [
        "### Visualizar histograma y su densidad\n"
      ],
      "metadata": {
        "id": "ESWG3SM04qM-"
      }
    },
    {
      "cell_type": "code",
      "source": [
        "# Convertir los números aleatorios a un data.frame\n",
        "datos = pd.DataFrame({\"tiempos\" :numeros_aleatorios})\n",
        "k = 7 # Numero de cortes o divisiones o clases en el histograma\n",
        "\n",
        "# Solo mandar llamar la función\n",
        "\n",
        "f_visualizar_histograma_continua (datos, k)"
      ],
      "metadata": {
        "colab": {
          "base_uri": "https://localhost:8080/",
          "height": 472
        },
        "id": "J5MmsAFW4uqa",
        "outputId": "7ad02228-5060-45c8-e2f9-354dcf239c4c"
      },
      "execution_count": null,
      "outputs": [
        {
          "output_type": "display_data",
          "data": {
            "text/plain": [
              "<Figure size 640x480 with 1 Axes>"
            ],
            "image/png": "[encoded data removed]"
          },
          "metadata": {}
        }
      ]
    },
    {
      "cell_type": "markdown",
      "source": [
        "### Curva de densidad y probabilidad área bajo la curva\n",
        "\n",
        "Se visualiza sólo la curva de densidad  por cada valor de los datos.\n",
        "\n",
        "¿Cuál es la probabilidad de que la piza llegue entre 20 y 30 minutos?\n",
        "14%\n",
        "\n"
      ],
      "metadata": {
        "id": "raPvcLdsMNeY"
      }
    },
    {
      "cell_type": "markdown",
      "source": [
        "Se utiliza la función *pdf()* de la librería *scipy.stats*\n",
        "\n"
      ],
      "metadata": {
        "id": "E-CJEbj5ROxG"
      }
    },
    {
      "cell_type": "code",
      "source": [
        "# Intervalo a visualizar\n",
        "intervalo_a = 20\n",
        "intervalo_b = intervalo_a + 10  # Hasta 30\n",
        "\n",
        "# Crear una secuencia de valores en el rango completo de la distribución uniforme\n",
        "x = np.linspace(min, max+min)\n",
        "\n",
        "# Calcular la densidad de probabilidad de la distribución uniforme\n",
        "densidad = uniform.pdf(x, loc=min, scale=max)\n",
        "\n",
        "# Dibujar la curva de densidad de probabilidad\n",
        "plt.plot(x, densidad, 'r-', lw=2)\n",
        "\n",
        "# Resaltar el área bajo la curva entre 20 y 30\n",
        "x_fill = np.linspace(intervalo_a, intervalo_b)\n",
        "y_fill = uniform.pdf(x_fill, loc=intervalo_a, scale=intervalo_b)\n",
        "plt.fill_between(x_fill, y_fill, alpha=0.3, color='orange')\n",
        "\n",
        "# Etiquetas y título del gráfico\n",
        "plt.xlabel('Tiempos (mins)')\n",
        "plt.ylabel('Densidad de probabilidad')\n",
        "plt.title('Distribución Uniforme y Área bajo la Curva')\n",
        "\n",
        "# Mostrar el gráfico\n",
        "plt.show()"
      ],
      "metadata": {
        "colab": {
          "base_uri": "https://localhost:8080/",
          "height": 474
        },
        "id": "auFZLEXJMafJ",
        "outputId": "6d1a330a-d77a-4708-e5e1-69f16994f8c6"
      },
      "execution_count": null,
      "outputs": [
        {
          "output_type": "display_data",
          "data": {
            "text/plain": [
              "<Figure size 640x480 with 1 Axes>"
            ],
            "image/png": "[encoded data removed]"
          },
          "metadata": {}
        }
      ]
    },
    {
      "cell_type": "markdown",
      "source": [
        "### La probabilidad\n",
        "\n",
        "¿Cúal es la probabilidad de que la Pizza llegue entre 20 y 30 minutos?.\n"
      ],
      "metadata": {
        "id": "6-OTTHI-ysYF"
      }
    },
    {
      "cell_type": "code",
      "source": [
        "# Calcular la probabilidad de que llegue entre 20 y 30 minutos\n",
        "probabilidad = uniform.cdf(intervalo_b, loc=min, scale=max) - uniform.cdf(intervalo_a, loc=min, scale=max)\n",
        "#probabilidad = probabilidad * 100\n",
        "print(f\"La probabilidad de que la pizza llegue entre 20 y 30 minutos es: {probabilidad:.2f} %\")\n",
        "print (\"Es lo que representa el área amarilla con respecto al 100% en la imagen anterior\")"
      ],
      "metadata": {
        "colab": {
          "base_uri": "https://localhost:8080/"
        },
        "id": "iFSCRc4FTJ6m",
        "outputId": "5aa7c06d-8630-4a74-b780-f3d3291c15fe"
      },
      "execution_count": null,
      "outputs": [
        {
          "output_type": "stream",
          "name": "stdout",
          "text": [
            "La probabilidad de que la pizza llegue entre 20 y 30 minutos es: 0.33 %\n",
            "Es lo que representa el área amarilla con respecto al 100% en la imagen anterior\n"
          ]
        }
      ]
    }
  ]
}