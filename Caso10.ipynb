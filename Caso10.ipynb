{
  "nbformat": 4,
  "nbformat_minor": 0,
  "metadata": {
    "colab": {
      "provenance": [],
      "include_colab_link": true
    },
    "kernelspec": {
      "name": "python3",
      "display_name": "Python 3"
    },
    "language_info": {
      "name": "python"
    }
  },
  "cells": [
    {
      "cell_type": "markdown",
      "metadata": {
        "id": "view-in-github",
        "colab_type": "text"
      },
      "source": [
        "<a href=\"https://colab.research.google.com/github/MarcoAlejandroSoto/phytonCasos/blob/main/Caso10.ipynb\" target=\"_parent\"><img src=\"https://colab.research.google.com/assets/colab-badge.svg\" alt=\"Open In Colab\"/></a>"
      ]
    },
    {
      "cell_type": "markdown",
      "source": [
        "# Objetivo\n",
        "\n",
        "Determinar e interpretar la prueba de Yule\n",
        "\n",
        "# Descripción\n",
        "\n",
        "* A partir de unos datos recabados y cargados se forma tabla de contingencia\n",
        "* Se determina el valor de *p_prueba* (probabilidad)\n",
        "* Se determina los valores a, b, c y d de la tabla de contingencia de una estructura de n * n (2 * 2).\n",
        "* Se determina el valor de alfa de significacncia, normalmente al $\\alpha = 0.05$.\n",
        "* Se contrasta el valor de *p_prueba* contra el valor de significancia $\\alpha=0.05$ y se toma la decisión de si el valor de Yule tiene un significado entre las variables.\n",
        "\n",
        "Decisión:\n",
        "\n",
        "$$\n",
        "\\text{Si } (\\chi^{2} < p.valor)\\text{: Hay significancia estadística}\n",
        "$$\n",
        "\n",
        "$$\n",
        "\\text{de lo contrario:} \\text{ No hay significancia estadística}\n",
        "$$\n",
        "\n",
        "\n",
        "La fórmula para calcular prueba de Yule; el valor debe salir entre -1 y 1 y significa nivel de relación entre las variables.\n",
        "\n",
        "\n",
        "$$\n",
        "Yule = Q = \\frac{a\\cdot d - b\\cdot c}{a\\cdot d + b\\cdot c}\n",
        "$$\n",
        "\n",
        "La fórmula para determinar el valor de chi cuadrada calculada para el contraste contra el valor de *p_valor* de acuerdo al valor de significancia de *alfa* y a un grado $(gl = 1)$ de libertad.\n",
        "\n",
        "* Si $Q$ está cerca de -1, indica una asociación negativa (las variables están inversamente relacionadas).\n",
        "* Si $Q$ está cerca de 1, indica una asociación positiva (las variables están directamente relacionadas).\n",
        "* Si $Q$ está cerca de 0, indica que no hay una asociación lineal.\n",
        "\n",
        "¿Cómo obtener chi cuadrada?:\n",
        "\n",
        "$$\n",
        "Chi cuadrada = \\chi^{2} = \\frac{|(a\\cdot d-b\\cdot c)|^2\\cdot(a+b+c+d)}{(a+b)\\cdot(c+d)\\cdot(a+c)\\cdot(b+d)}\n",
        "$$\n",
        "\n",
        "El valor p (*p_valor*) representa la probabilidad de observar un estadístico de prueba igual o más extremo que el calculado, asumiendo que las variables son independientes.\n",
        "\n",
        "Si el valor p es menor que un nivel de significancia predefinido ($0.05$), se considera que existe una asociación significativa entre las variables.\n",
        "\n",
        "Las hipótesis nulas y alternativas serían:\n",
        "\n",
        "$$\n",
        "Ho: \\text{No hay relación entre variables}\n",
        "$$\n",
        "\n",
        "$$\n",
        "Ha: \\text{Si hay relación entre variables}\n",
        "$$\n",
        "\n",
        "Si el valor de chi calculado está por la izquierda del valor crítico de chi cuadrada cola a la derecha a 1 grado de libertad, entonces se concluye que no hay evidencia estadística de relación entre dos variables categóricas.\n",
        "\n",
        "\n",
        "Condición para hipótesis con *chi cuadrada*:\n",
        "\n",
        "$$\n",
        "\\text{Si (chi calculado < chi critico): Se acepta Ho}\n",
        "$$\n",
        "\n",
        "$$\n",
        "\\text{Si (chi calculado ≥ chi critico): Se rechaza Ho}\n",
        "$$\n",
        "\n"
      ],
      "metadata": {
        "id": "3biaffneTYn8"
      }
    },
    {
      "cell_type": "markdown",
      "source": [
        "# Desarrollo\n",
        "\n",
        "\n",
        "\n"
      ],
      "metadata": {
        "id": "Z4ufrnxyT0OM"
      }
    },
    {
      "cell_type": "markdown",
      "source": [
        "## Cargar librerías\n",
        "\n",
        "\n"
      ],
      "metadata": {
        "id": "Of4LTDcQT8Ri"
      }
    },
    {
      "cell_type": "code",
      "source": [
        "# Instalar para la sesión de este caso\n",
        "!pip install scipy\n"
      ],
      "metadata": {
        "id": "b8krEv23UEbc",
        "colab": {
          "base_uri": "https://localhost:8080/"
        },
        "outputId": "e3c3f6b8-2aca-4b1e-9c31-635ee842b995"
      },
      "execution_count": null,
      "outputs": [
        {
          "output_type": "stream",
          "name": "stdout",
          "text": [
            "Requirement already satisfied: scipy in /usr/local/lib/python3.10/dist-packages (1.11.3)\n",
            "Requirement already satisfied: numpy<1.28.0,>=1.21.6 in /usr/local/lib/python3.10/dist-packages (from scipy) (1.23.5)\n"
          ]
        }
      ]
    },
    {
      "cell_type": "code",
      "source": [
        "import numpy as np\n",
        "from scipy.stats import chi2_contingency\n",
        "import matplotlib.pyplot as plt\n",
        "import pandas as pd\n",
        "\n",
        "from scipy.stats import chi2\n",
        "from scipy.stats import chi2\n"
      ],
      "metadata": {
        "id": "wQHfeOO2UAX7"
      },
      "execution_count": null,
      "outputs": []
    },
    {
      "cell_type": "markdown",
      "source": [
        "## Funciones"
      ],
      "metadata": {
        "id": "uWNexNcUOZza"
      }
    },
    {
      "cell_type": "code",
      "source": [
        "def f_visualizar_frec_tabla_contingencia (tabla_cruzada, var1, var2):\n",
        "  # Crear un gráfico de barras a partir de la tabla cruzada\n",
        "  tabla_cruzada.plot(kind='bar', stacked=True)\n",
        "\n",
        "  # Personalizar el gráfico\n",
        "  plt.title('Diagrama de Barras a partir de la Tabla Cruzada')\n",
        "  plt.xlabel('Categoría en el Eje X: '+ var1)\n",
        "  plt.ylabel('Frecuencia en el Eje Y: '+ var2)\n",
        "\n",
        "  # Mostrar el gráfico\n",
        "  plt.show()\n",
        "\n",
        "def f_visualizar_chi_yule(valor_chi_cuad, alfa):\n",
        "  from scipy.stats import chi2\n",
        "  import matplotlib.pyplot as plt\n",
        "\n",
        "  # Grados de libertad\n",
        "  df = 1\n",
        "\n",
        "  # Calcular el valor crítico de chi-cuadrada\n",
        "  valor_critico = chi2.ppf(1 - alfa, df)\n",
        "\n",
        "  # Crear un rango de valores para x\n",
        "  x = np.linspace(0, 10, 1000)\n",
        "\n",
        "  # Calcular la función de densidad de probabilidad de chi-cuadrada\n",
        "  pdf = chi2.pdf(x, df)\n",
        "\n",
        "  # Crear una figura y ejes para el gráfico\n",
        "  fig, ax = plt.subplots()\n",
        "\n",
        "  # Dibujar la función de densidad de probabilidad\n",
        "  ax.plot(x, pdf, 'r-', lw=2, label='PDF')\n",
        "\n",
        "  # Resaltar el valor observado\n",
        "  ax.axvline(valor_chi_cuad, color='green', linestyle='--', label='Valor de Prueba')\n",
        "\n",
        "  # Resaltar el valor crítico\n",
        "  ax.axvline(valor_critico, color='red', linestyle='--', label='Valor Crítico')\n",
        "\n",
        "  # Etiquetas de los ejes y leyenda\n",
        "  ax.set_xlabel('Valores de Chi-cuadrado')\n",
        "  ax.set_ylabel('Densidad de Probabilidad')\n",
        "  ax.set_title('Distribución Chi-cuadrada')\n",
        "  ax.legend()\n",
        "\n",
        "  # Mostrar el gráfico\n",
        "  plt.show()\n",
        "\n",
        "# Función que pruea el valor de chi cuadrada en prueba de Yule\n",
        "# recibe los valores a, b, c, d y devuelve chi cuadrada\n",
        "# Aunque el resultado sale ligeramente diferente con respecto a la función utilizada\n",
        "# para obtener chi cuadrada.\n",
        "def f_chi_cuadrada(a, b, c, d):\n",
        "  chi = ((abs(a * d - b * c) ** 2) * (a + b + c + d)) / ((a + b) * (c + d) * (a + c) * (b + d))\n",
        "  return chi\n"
      ],
      "metadata": {
        "id": "_zNL80F0Odnl"
      },
      "execution_count": null,
      "outputs": []
    },
    {
      "cell_type": "markdown",
      "source": [
        "## Cargar los datos\n",
        "\n",
        "Se recupera una encuesta sobre el estudio de dos variables.\n",
        "\n",
        "Se hizo una encuesta y fueron seleccionadas aleatoriamente 300 personas.\n",
        "\n",
        "Se le preguntó a su género que puede ser hombre y mujer etiquetado de la siguiente manera:\n",
        "* H: Hombre\n",
        "* M: Mujer\n",
        "¿Cuál es su género? H: Hombre o M:Mujer\n",
        "\n",
        "Se les preguntó si consumen alcohol hoy en día (presente) en su distintas denominaciones (cerveza, vino, tequila mezcal, bebidas preparadas, entre otros) y en cualquier cantidad, sean dosis mínimas equilabradas y saluables o ingesta de alcohol.\n",
        "\n",
        "¿Consume alcohol? Si o No.\n",
        "\n",
        "\n",
        "## Aquí la tabla de contingencia\n",
        "\\begin{array}{c} \\hline\n",
        " &  \\text{No consume} & \\text{Si consume} \\\\ \\hline\n",
        " Género&  &  \\\\\n",
        "H: Hombre & 15 & 238 \\\\\n",
        "M: Mujer & 11 & 46 \\\\ \\hline\n",
        "\\end{array}\n",
        "\n"
      ],
      "metadata": {
        "id": "7rJ30WDBUQS7"
      }
    },
    {
      "cell_type": "markdown",
      "source": [
        "## Visualización de tabla de contingencia\n",
        "\n"
      ],
      "metadata": {
        "id": "vKIz8k2m4ULM"
      }
    },
    {
      "cell_type": "code",
      "source": [
        "# Crear una tabla de contingencia a partir de tus datos\n",
        "datos_abcd = np.array([[15, 238], [11, 46]])\n",
        "\n",
        "# Crear un DataFrame a partir de los datos\n",
        "datos = pd.DataFrame(datos_abcd, columns=[\"No Consume\", \"Si consume\"], index=[\"H\", \"M\"])\n",
        "\n",
        "# Convertir el DataFrame a una tabla cruzada\n",
        "tabla_cruzada = datos.unstack().unstack()\n",
        "# Mostrar la tabla cruzada\n",
        "print(\"Aquí la tabla cruzada para visualizar:\")\n",
        "print(tabla_cruzada)\n",
        "\n",
        "# Visualizar la tabla cruzada\n",
        "f_visualizar_frec_tabla_contingencia(tabla_cruzada, \"Género\", \"Alcohol\")\n",
        "\n"
      ],
      "metadata": {
        "id": "H9qR_JiYT-mX",
        "colab": {
          "base_uri": "https://localhost:8080/",
          "height": 615
        },
        "outputId": "83bcf8a3-6699-4c2e-9cf8-261cb87594e3"
      },
      "execution_count": null,
      "outputs": [
        {
          "output_type": "stream",
          "name": "stdout",
          "text": [
            "Aquí la tabla cruzada para visualizar:\n",
            "              H   M\n",
            "No Consume   15  11\n",
            "Si consume  238  46\n"
          ]
        },
        {
          "output_type": "display_data",
          "data": {
            "text/plain": [
              "<Figure size 640x480 with 1 Axes>"
            ],
            "image/png": "[encoded data removed]"
          },
          "metadata": {}
        }
      ]
    },
    {
      "cell_type": "markdown",
      "source": [
        "## Hacer prueba de Yule"
      ],
      "metadata": {
        "id": "DuWllxBbYuh8"
      }
    },
    {
      "cell_type": "code",
      "source": [
        "print(\"Aquí la tabla de contingencia para prueba Yule solo los datos: \")\n",
        "print(\"\\n\")\n",
        "print(datos_abcd)\n",
        "print(\"\\n\")\n",
        "\n",
        "\n",
        "# Realizar la prueba de chi-cuadrado de independencia\n",
        "chi2, p_valor, _, _ = chi2_contingency(datos_abcd)\n",
        "\n",
        "# Calcular el coeficiente de Yule\n",
        "a, b, c, d = datos_abcd.ravel()  # Extraer los valores de la tabla\n",
        "Yule_coefficient = (a * d - b * c) / (a * d + b * c)\n",
        "\n",
        "print(f'Valor de Yule: {Yule_coefficient:.2f}')\n",
        "print(f'Valor de chi2: {chi2:.2f}')\n",
        "print(f'Valor p_valor (chi-cuadrado): {p_valor:.4f}')\n",
        "\n",
        "\n",
        "# Probando la f_chi_cuadrada\n",
        "#chi_cuad = f_chi_cuadrada(a, b, c, d)\n",
        "#print(\"Probando con f_chi_cuadrada(): \", chi_cuad)\n",
        "\n",
        "# Verificar el valor de p\n",
        "\n",
        "# Realizar una prueba de significancia (se puede ajustar el nivel de significancia )\n",
        "alfa = 0.05\n",
        "print (\"¿Hay distinción en el consumo de alcohol entre hombres y mujeres ?\")\n",
        "if p_valor < alfa:\n",
        "    print('Existe una asociación significativa entre las variables, estadísticamente hablando.')\n",
        "else:\n",
        "    print('No hay evidencia de una asociación significativa entre las vaiables, estadísticamente hablando.')"
      ],
      "metadata": {
        "id": "Xj6qMX1pYwi0",
        "colab": {
          "base_uri": "https://localhost:8080/"
        },
        "outputId": "a2c663d4-1c9b-4961-985f-a6239398fc8a"
      },
      "execution_count": null,
      "outputs": [
        {
          "output_type": "stream",
          "name": "stdout",
          "text": [
            "Aquí la tabla de contingencia para prueba Yule solo los datos: \n",
            "\n",
            "\n",
            "[[ 15 238]\n",
            " [ 11  46]]\n",
            "\n",
            "\n",
            "Valor de Yule: -0.58\n",
            "Valor de chi2: 9.15\n",
            "Valor p_valor (chi-cuadrado): 0.0025\n",
            "¿Hay distinción en el consumo de alcohol entre hombres y mujeres ?\n",
            "Existe una asociación significativa entre las variables, estadísticamente hablando.\n"
          ]
        }
      ]
    },
    {
      "cell_type": "markdown",
      "source": [
        "## Visualizar constraste chi cuadrada"
      ],
      "metadata": {
        "id": "eB8bk8GhhxOu"
      }
    },
    {
      "cell_type": "code",
      "source": [
        "f_visualizar_chi_yule(chi2, alfa)"
      ],
      "metadata": {
        "id": "P8lPmXpeh0b1",
        "colab": {
          "base_uri": "https://localhost:8080/",
          "height": 472
        },
        "outputId": "37a9aeb8-55ea-4bc9-a044-9230a025b560"
      },
      "execution_count": null,
      "outputs": [
        {
          "output_type": "display_data",
          "data": {
            "text/plain": [
              "<Figure size 640x480 with 1 Axes>"
            ],
            "image/png": "[encoded data removed]"
          },
          "metadata": {}
        }
      ]
    },
    {
      "cell_type": "markdown",
      "source": [
        "# Relación estudiar no estudiar aprobar no aprobar\n",
        "\n",
        "\\begin{array}{c} \\hline\n",
        " &  \\text{No aprobar} & \\text{Aprobar} \\\\ \\hline\n",
        " Estudio&  &  \\\\\n",
        "Estudiar & 15 & 40 \\\\\n",
        "\\text{No estudiar} & 25 & 20 \\\\ \\hline\n",
        "\\end{array}"
      ],
      "metadata": {
        "id": "NCOcdcnu-DDX"
      }
    },
    {
      "cell_type": "markdown",
      "source": [
        "## Visualización de tabla de contingencia"
      ],
      "metadata": {
        "id": "RRK6L23pZPEt"
      }
    },
    {
      "cell_type": "code",
      "source": [
        "# Crear una tabla de contingencia a partir de los datos\n",
        "datos_abcd = np.array([[15, 40], [25, 20]])\n",
        "\n",
        "# Crear un DataFrame a partir de los datos\n",
        "datos = pd.DataFrame(datos_abcd, columns=[\"No aprobar\", \"Aprobar\"], index=[\"Estudiar\", \"No estudiar\"])\n",
        "\n",
        "# Convertir el DataFrame a una tabla cruzada\n",
        "tabla_cruzada = datos.unstack().unstack()\n",
        "# Mostrar la tabla cruzada\n",
        "print(\"Aquí la tabla cruzada para visualizar:\")\n",
        "print(tabla_cruzada)\n",
        "\n",
        "# Visualizar la tabla cruzada\n",
        "f_visualizar_frec_tabla_contingencia(tabla_cruzada, \"Estudio\", \"Aprobación\")\n"
      ],
      "metadata": {
        "id": "sO5_Z_4NZQQe",
        "colab": {
          "base_uri": "https://localhost:8080/",
          "height": 605
        },
        "outputId": "9cf9e250-bb18-46bf-80a2-9b350417c93f"
      },
      "execution_count": null,
      "outputs": [
        {
          "output_type": "stream",
          "name": "stdout",
          "text": [
            "Aquí la tabla cruzada para visualizar:\n",
            "            Estudiar  No estudiar\n",
            "No aprobar        15           25\n",
            "Aprobar           40           20\n"
          ]
        },
        {
          "output_type": "display_data",
          "data": {
            "text/plain": [
              "<Figure size 640x480 with 1 Axes>"
            ],
            "image/png": "[encoded data removed]"
          },
          "metadata": {}
        }
      ]
    },
    {
      "cell_type": "code",
      "source": [
        "# Crear una tabla de contingencia a partir de tus datos\n",
        "#tabla_de_contingencia = np.array([[15, 40], [25, 20]])  # FALSE/TRUE en función de género\n",
        "\n",
        "print(\"Aquí la tabla de contingencia: \")\n",
        "print(\"\\n\")\n",
        "print(datos_abcd)\n",
        "print(\"\\n\")\n",
        "\n",
        "# Realizar la prueba de chi-cuadrado de independencia\n",
        "chi2, p_valor, _, _ = chi2_contingency(datos_abcd)\n",
        "\n",
        "# Calcular el coeficiente de Yule\n",
        "a, b, c, d = datos_abcd.ravel()  # Extraer los valores de la tabla\n",
        "Yule_coefficient = (a * d - b * c) / (a * d + b * c)\n",
        "\n",
        "print(f'Valor de Yule: {Yule_coefficient:.2f}')\n",
        "print(f'Valor de chi2: {chi2:.2f}')\n",
        "print(f'Valor p_valor (chi-cuadrado): {p_valor:.4f}')\n",
        "\n",
        "\n",
        "# Verificar el valor de p\n",
        "\n",
        "# Realizar una prueba de significancia (se puede ajustar el nivel de significancia )\n",
        "alfa = 0.05\n",
        "print (\"Estudiar o preparar, implica aprobar o no aprobar un examen ?\")\n",
        "if p_valor < alfa:\n",
        "    print('Existe una asociación significativa entre las variables.')\n",
        "else:\n",
        "    print('No hay evidencia de una asociación significativa.')"
      ],
      "metadata": {
        "id": "_fJkEoqaA8J4",
        "colab": {
          "base_uri": "https://localhost:8080/"
        },
        "outputId": "11bfb7f6-4739-4199-cae1-62d5e1419cef"
      },
      "execution_count": null,
      "outputs": [
        {
          "output_type": "stream",
          "name": "stdout",
          "text": [
            "Aquí la tabla de contingencia: \n",
            "\n",
            "\n",
            "[[15 40]\n",
            " [25 20]]\n",
            "\n",
            "\n",
            "Valor de Yule: -0.54\n",
            "Valor de chi2: 7.11\n",
            "Valor p_valor (chi-cuadrado): 0.0077\n",
            "Estudiar o preparar, implica aprobar o no aprobar un examen ?\n",
            "Existe una asociación significativa entre las variables.\n"
          ]
        }
      ]
    },
    {
      "cell_type": "markdown",
      "source": [
        "## Visualizar chi cuadrada de constraste\n"
      ],
      "metadata": {
        "id": "354ZX-eNjvK2"
      }
    },
    {
      "cell_type": "code",
      "source": [
        "f_visualizar_chi_yule(chi2, alfa)"
      ],
      "metadata": {
        "id": "B9qalXIxjyCI"
      },
      "execution_count": null,
      "outputs": []
    },
    {
      "cell_type": "markdown",
      "source": [
        "## Relación entre hacer deporte y lesiones\n",
        "\n",
        "\n",
        "\n",
        "\\begin{array}{c} \\hline\n",
        " &  \\text{No lesión} & \\text{Lesión} \\\\ \\hline\n",
        " Deporte&  &  \\\\\n",
        "\\text{Si hace deporte} & 18 & 19 \\\\\n",
        "\\text{No hace deporte} & 30 & 43 \\\\ \\hline\n",
        "\\end{array}\n",
        "\n"
      ],
      "metadata": {
        "id": "1T_l920HFEgW"
      }
    },
    {
      "cell_type": "markdown",
      "source": [
        "## Los datos\n",
        "\n",
        "Se cargan los datos originales de una posible encuesta y a partir de ahí consruir tabla de contignencia.\n"
      ],
      "metadata": {
        "id": "Fz8bs9PVGTzY"
      }
    },
    {
      "cell_type": "code",
      "source": [
        "import pandas as pd\n",
        "url = \"https://raw.githubusercontent.com/rpizarrog/simulacion/main/datos/deporte_lesiones.csv\"\n",
        "datos = pd.read_csv(url)\n",
        "datos"
      ],
      "metadata": {
        "id": "eu0-C1OCGVfy",
        "colab": {
          "base_uri": "https://localhost:8080/",
          "height": 424
        },
        "outputId": "9a4d08e4-ee50-4a77-a751-533de1e199e0"
      },
      "execution_count": null,
      "outputs": [
        {
          "output_type": "execute_result",
          "data": {
            "text/plain": [
              "    Unnamed: 0          deporte  lesion\n",
              "0            1  SI HACE DEPORTE   False\n",
              "1            2  SI HACE DEPORTE    True\n",
              "2            3  SI HACE DEPORTE    True\n",
              "3            4  NO HACE DEPORTE   False\n",
              "4            5  NO HACE DEPORTE    True\n",
              "..         ...              ...     ...\n",
              "95          96  SI HACE DEPORTE    True\n",
              "96          97  SI HACE DEPORTE    True\n",
              "97          98  SI HACE DEPORTE   False\n",
              "98          99  SI HACE DEPORTE    True\n",
              "99         100  NO HACE DEPORTE   False\n",
              "\n",
              "[100 rows x 3 columns]"
            ],
            "text/html": [
              "\n",
              "  <div id=\"df-f7cb04ef-d69f-44e4-85b4-af6eee78ef5a\" class=\"colab-df-container\">\n",
              "    <div>\n",
              "<style scoped>\n",
              "    .dataframe tbody tr th:only-of-type {\n",
              "        vertical-align: middle;\n",
              "    }\n",
              "\n",
              "    .dataframe tbody tr th {\n",
              "        vertical-align: top;\n",
              "    }\n",
              "\n",
              "    .dataframe thead th {\n",
              "        text-align: right;\n",
              "    }\n",
              "</style>\n",
              "<table border=\"1\" class=\"dataframe\">\n",
              "  <thead>\n",
              "    <tr style=\"text-align: right;\">\n",
              "      <th></th>\n",
              "      <th>Unnamed: 0</th>\n",
              "      <th>deporte</th>\n",
              "      <th>lesion</th>\n",
              "    </tr>\n",
              "  </thead>\n",
              "  <tbody>\n",
              "    <tr>\n",
              "      <th>0</th>\n",
              "      <td>1</td>\n",
              "      <td>SI HACE DEPORTE</td>\n",
              "      <td>False</td>\n",
              "    </tr>\n",
              "    <tr>\n",
              "      <th>1</th>\n",
              "      <td>2</td>\n",
              "      <td>SI HACE DEPORTE</td>\n",
              "      <td>True</td>\n",
              "    </tr>\n",
              "    <tr>\n",
              "      <th>2</th>\n",
              "      <td>3</td>\n",
              "      <td>SI HACE DEPORTE</td>\n",
              "      <td>True</td>\n",
              "    </tr>\n",
              "    <tr>\n",
              "      <th>3</th>\n",
              "      <td>4</td>\n",
              "      <td>NO HACE DEPORTE</td>\n",
              "      <td>False</td>\n",
              "    </tr>\n",
              "    <tr>\n",
              "      <th>4</th>\n",
              "      <td>5</td>\n",
              "      <td>NO HACE DEPORTE</td>\n",
              "      <td>True</td>\n",
              "    </tr>\n",
              "    <tr>\n",
              "      <th>...</th>\n",
              "      <td>...</td>\n",
              "      <td>...</td>\n",
              "      <td>...</td>\n",
              "    </tr>\n",
              "    <tr>\n",
              "      <th>95</th>\n",
              "      <td>96</td>\n",
              "      <td>SI HACE DEPORTE</td>\n",
              "      <td>True</td>\n",
              "    </tr>\n",
              "    <tr>\n",
              "      <th>96</th>\n",
              "      <td>97</td>\n",
              "      <td>SI HACE DEPORTE</td>\n",
              "      <td>True</td>\n",
              "    </tr>\n",
              "    <tr>\n",
              "      <th>97</th>\n",
              "      <td>98</td>\n",
              "      <td>SI HACE DEPORTE</td>\n",
              "      <td>False</td>\n",
              "    </tr>\n",
              "    <tr>\n",
              "      <th>98</th>\n",
              "      <td>99</td>\n",
              "      <td>SI HACE DEPORTE</td>\n",
              "      <td>True</td>\n",
              "    </tr>\n",
              "    <tr>\n",
              "      <th>99</th>\n",
              "      <td>100</td>\n",
              "      <td>NO HACE DEPORTE</td>\n",
              "      <td>False</td>\n",
              "    </tr>\n",
              "  </tbody>\n",
              "</table>\n",
              "<p>100 rows × 3 columns</p>\n",
              "</div>\n",
              "    <div class=\"colab-df-buttons\">\n",
              "\n",
              "  <div class=\"colab-df-container\">\n",
              "    <button class=\"colab-df-convert\" onclick=\"convertToInteractive('df-f7cb04ef-d69f-44e4-85b4-af6eee78ef5a')\"\n",
              "            title=\"Convert this dataframe to an interactive table.\"\n",
              "            style=\"display:none;\">\n",
              "\n",
              "  <svg xmlns=\"http://www.w3.org/2000/svg\" height=\"24px\" viewBox=\"0 -960 960 960\">\n",
              "    <path d=\"M120-120v-720h720v720H120Zm60-500h600v-160H180v160Zm220 220h160v-160H400v160Zm0 220h160v-160H400v160ZM180-400h160v-160H180v160Zm440 0h160v-160H620v160ZM180-180h160v-160H180v160Zm440 0h160v-160H620v160Z\"/>\n",
              "  </svg>\n",
              "    </button>\n",
              "\n",
              "  <style>\n",
              "    .colab-df-container {\n",
              "      display:flex;\n",
              "      gap: 12px;\n",
              "    }\n",
              "\n",
              "    .colab-df-convert {\n",
              "      background-color: #E8F0FE;\n",
              "      border: none;\n",
              "      border-radius: 50%;\n",
              "      cursor: pointer;\n",
              "      display: none;\n",
              "      fill: #1967D2;\n",
              "      height: 32px;\n",
              "      padding: 0 0 0 0;\n",
              "      width: 32px;\n",
              "    }\n",
              "\n",
              "    .colab-df-convert:hover {\n",
              "      background-color: #E2EBFA;\n",
              "      box-shadow: 0px 1px 2px rgba(60, 64, 67, 0.3), 0px 1px 3px 1px rgba(60, 64, 67, 0.15);\n",
              "      fill: #174EA6;\n",
              "    }\n",
              "\n",
              "    .colab-df-buttons div {\n",
              "      margin-bottom: 4px;\n",
              "    }\n",
              "\n",
              "    [theme=dark] .colab-df-convert {\n",
              "      background-color: #3B4455;\n",
              "      fill: #D2E3FC;\n",
              "    }\n",
              "\n",
              "    [theme=dark] .colab-df-convert:hover {\n",
              "      background-color: #434B5C;\n",
              "      box-shadow: 0px 1px 3px 1px rgba(0, 0, 0, 0.15);\n",
              "      filter: drop-shadow(0px 1px 2px rgba(0, 0, 0, 0.3));\n",
              "      fill: #FFFFFF;\n",
              "    }\n",
              "  </style>\n",
              "\n",
              "    <script>\n",
              "      const buttonEl =\n",
              "        document.querySelector('#df-f7cb04ef-d69f-44e4-85b4-af6eee78ef5a button.colab-df-convert');\n",
              "      buttonEl.style.display =\n",
              "        google.colab.kernel.accessAllowed ? 'block' : 'none';\n",
              "\n",
              "      async function convertToInteractive(key) {\n",
              "        const element = document.querySelector('#df-f7cb04ef-d69f-44e4-85b4-af6eee78ef5a');\n",
              "        const dataTable =\n",
              "          await google.colab.kernel.invokeFunction('convertToInteractive',\n",
              "                                                    [key], {});\n",
              "        if (!dataTable) return;\n",
              "\n",
              "        const docLinkHtml = 'Like what you see? Visit the ' +\n",
              "          '<a target=\"_blank\" href=https://colab.research.google.com/notebooks/data_table.ipynb>data table notebook</a>'\n",
              "          + ' to learn more about interactive tables.';\n",
              "        element.innerHTML = '';\n",
              "        dataTable['output_type'] = 'display_data';\n",
              "        await google.colab.output.renderOutput(dataTable, element);\n",
              "        const docLink = document.createElement('div');\n",
              "        docLink.innerHTML = docLinkHtml;\n",
              "        element.appendChild(docLink);\n",
              "      }\n",
              "    </script>\n",
              "  </div>\n",
              "\n",
              "\n",
              "<div id=\"df-6d5e1e74-66a7-42f6-a72a-978623682599\">\n",
              "  <button class=\"colab-df-quickchart\" onclick=\"quickchart('df-6d5e1e74-66a7-42f6-a72a-978623682599')\"\n",
              "            title=\"Suggest charts.\"\n",
              "            style=\"display:none;\">\n",
              "\n",
              "<svg xmlns=\"http://www.w3.org/2000/svg\" height=\"24px\"viewBox=\"0 0 24 24\"\n",
              "     width=\"24px\">\n",
              "    <g>\n",
              "        <path d=\"M19 3H5c-1.1 0-2 .9-2 2v14c0 1.1.9 2 2 2h14c1.1 0 2-.9 2-2V5c0-1.1-.9-2-2-2zM9 17H7v-7h2v7zm4 0h-2V7h2v10zm4 0h-2v-4h2v4z\"/>\n",
              "    </g>\n",
              "</svg>\n",
              "  </button>\n",
              "\n",
              "<style>\n",
              "  .colab-df-quickchart {\n",
              "      --bg-color: #E8F0FE;\n",
              "      --fill-color: #1967D2;\n",
              "      --hover-bg-color: #E2EBFA;\n",
              "      --hover-fill-color: #174EA6;\n",
              "      --disabled-fill-color: #AAA;\n",
              "      --disabled-bg-color: #DDD;\n",
              "  }\n",
              "\n",
              "  [theme=dark] .colab-df-quickchart {\n",
              "      --bg-color: #3B4455;\n",
              "      --fill-color: #D2E3FC;\n",
              "      --hover-bg-color: #434B5C;\n",
              "      --hover-fill-color: #FFFFFF;\n",
              "      --disabled-bg-color: #3B4455;\n",
              "      --disabled-fill-color: #666;\n",
              "  }\n",
              "\n",
              "  .colab-df-quickchart {\n",
              "    background-color: var(--bg-color);\n",
              "    border: none;\n",
              "    border-radius: 50%;\n",
              "    cursor: pointer;\n",
              "    display: none;\n",
              "    fill: var(--fill-color);\n",
              "    height: 32px;\n",
              "    padding: 0;\n",
              "    width: 32px;\n",
              "  }\n",
              "\n",
              "  .colab-df-quickchart:hover {\n",
              "    background-color: var(--hover-bg-color);\n",
              "    box-shadow: 0 1px 2px rgba(60, 64, 67, 0.3), 0 1px 3px 1px rgba(60, 64, 67, 0.15);\n",
              "    fill: var(--button-hover-fill-color);\n",
              "  }\n",
              "\n",
              "  .colab-df-quickchart-complete:disabled,\n",
              "  .colab-df-quickchart-complete:disabled:hover {\n",
              "    background-color: var(--disabled-bg-color);\n",
              "    fill: var(--disabled-fill-color);\n",
              "    box-shadow: none;\n",
              "  }\n",
              "\n",
              "  .colab-df-spinner {\n",
              "    border: 2px solid var(--fill-color);\n",
              "    border-color: transparent;\n",
              "    border-bottom-color: var(--fill-color);\n",
              "    animation:\n",
              "      spin 1s steps(1) infinite;\n",
              "  }\n",
              "\n",
              "  @keyframes spin {\n",
              "    0% {\n",
              "      border-color: transparent;\n",
              "      border-bottom-color: var(--fill-color);\n",
              "      border-left-color: var(--fill-color);\n",
              "    }\n",
              "    20% {\n",
              "      border-color: transparent;\n",
              "      border-left-color: var(--fill-color);\n",
              "      border-top-color: var(--fill-color);\n",
              "    }\n",
              "    30% {\n",
              "      border-color: transparent;\n",
              "      border-left-color: var(--fill-color);\n",
              "      border-top-color: var(--fill-color);\n",
              "      border-right-color: var(--fill-color);\n",
              "    }\n",
              "    40% {\n",
              "      border-color: transparent;\n",
              "      border-right-color: var(--fill-color);\n",
              "      border-top-color: var(--fill-color);\n",
              "    }\n",
              "    60% {\n",
              "      border-color: transparent;\n",
              "      border-right-color: var(--fill-color);\n",
              "    }\n",
              "    80% {\n",
              "      border-color: transparent;\n",
              "      border-right-color: var(--fill-color);\n",
              "      border-bottom-color: var(--fill-color);\n",
              "    }\n",
              "    90% {\n",
              "      border-color: transparent;\n",
              "      border-bottom-color: var(--fill-color);\n",
              "    }\n",
              "  }\n",
              "</style>\n",
              "\n",
              "  <script>\n",
              "    async function quickchart(key) {\n",
              "      const quickchartButtonEl =\n",
              "        document.querySelector('#' + key + ' button');\n",
              "      quickchartButtonEl.disabled = true;  // To prevent multiple clicks.\n",
              "      quickchartButtonEl.classList.add('colab-df-spinner');\n",
              "      try {\n",
              "        const charts = await google.colab.kernel.invokeFunction(\n",
              "            'suggestCharts', [key], {});\n",
              "      } catch (error) {\n",
              "        console.error('Error during call to suggestCharts:', error);\n",
              "      }\n",
              "      quickchartButtonEl.classList.remove('colab-df-spinner');\n",
              "      quickchartButtonEl.classList.add('colab-df-quickchart-complete');\n",
              "    }\n",
              "    (() => {\n",
              "      let quickchartButtonEl =\n",
              "        document.querySelector('#df-6d5e1e74-66a7-42f6-a72a-978623682599 button');\n",
              "      quickchartButtonEl.style.display =\n",
              "        google.colab.kernel.accessAllowed ? 'block' : 'none';\n",
              "    })();\n",
              "  </script>\n",
              "</div>\n",
              "    </div>\n",
              "  </div>\n"
            ]
          },
          "metadata": {},
          "execution_count": 9
        }
      ]
    },
    {
      "cell_type": "markdown",
      "source": [
        "## Construir tabla a partir de los datos"
      ],
      "metadata": {
        "id": "-I_5Sp2gPt_y"
      }
    },
    {
      "cell_type": "code",
      "source": [
        "# Crear una tabla de contingencia tabla cruzada\n",
        "tabla_contingencia = pd.crosstab(index=datos['deporte'], columns=datos['lesion'])\n",
        "\n",
        "# Mostrar la tabla de contingencia\n",
        "print(tabla_contingencia)\n",
        "\n",
        "# Visualizar barras de tabla de contingencia enviando tabla_cruzada\n",
        "visualizar_frec_tabla_contingencia(tabla_contingencia, 'deporte', 'lesion')\n"
      ],
      "metadata": {
        "id": "IDasYy2jP2T0",
        "colab": {
          "base_uri": "https://localhost:8080/",
          "height": 280
        },
        "outputId": "6612934b-23c4-44d2-86d7-6ade0218bad8"
      },
      "execution_count": null,
      "outputs": [
        {
          "output_type": "stream",
          "name": "stdout",
          "text": [
            "lesion           False  True \n",
            "deporte                      \n",
            "NO HACE DEPORTE      8     19\n",
            "SI HACE DEPORTE     30     43\n"
          ]
        },
        {
          "output_type": "error",
          "ename": "NameError",
          "evalue": "ignored",
          "traceback": [
            "\u001b[0;31m---------------------------------------------------------------------------\u001b[0m",
            "\u001b[0;31mNameError\u001b[0m                                 Traceback (most recent call last)",
            "\u001b[0;32m<ipython-input-10-cfce28a1d9a0>\u001b[0m in \u001b[0;36m<cell line: 8>\u001b[0;34m()\u001b[0m\n\u001b[1;32m      6\u001b[0m \u001b[0;34m\u001b[0m\u001b[0m\n\u001b[1;32m      7\u001b[0m \u001b[0;31m# Visualizar barras de tabla de contingencia enviando tabla_cruzada\u001b[0m\u001b[0;34m\u001b[0m\u001b[0;34m\u001b[0m\u001b[0m\n\u001b[0;32m----> 8\u001b[0;31m \u001b[0mvisualizar_frec_tabla_contingencia\u001b[0m\u001b[0;34m(\u001b[0m\u001b[0mtabla_contingencia\u001b[0m\u001b[0;34m,\u001b[0m \u001b[0;34m'deporte'\u001b[0m\u001b[0;34m,\u001b[0m \u001b[0;34m'lesion'\u001b[0m\u001b[0;34m)\u001b[0m\u001b[0;34m\u001b[0m\u001b[0;34m\u001b[0m\u001b[0m\n\u001b[0m",
            "\u001b[0;31mNameError\u001b[0m: name 'visualizar_frec_tabla_contingencia' is not defined"
          ]
        }
      ]
    },
    {
      "cell_type": "code",
      "source": [
        "# Valores a, b, c, d\n",
        "# Se extraen los datos a partir de la tabla de contingencia o tabla cruzada\n",
        "a = tabla_contingencia.iloc[0, 0]\n",
        "b = tabla_contingencia.iloc[0, 1]\n",
        "c = tabla_contingencia.iloc[1, 0]\n",
        "d = tabla_contingencia.iloc[1, 1]\n",
        "\n",
        "datos_abcd = np.array([[a, b], [c, d]])  # deporte en función de lesion\n",
        "\n",
        "print(\"Aquí la tabla de contingencia, solo datos: \")\n",
        "print(\"\\n\")\n",
        "print(datos_abcd)\n",
        "print(\"\\n\")\n",
        "\n",
        "# Realizar la prueba de chi-cuadrado de independencia\n",
        "chi2, p_valor, _, _ = chi2_contingency(datos_abcd)\n",
        "\n",
        "# Calcular el coeficiente de Yule\n",
        "a, b, c, d = datos_abcd.ravel()  # Extraer los valores de la tabla\n",
        "Yule_coefficient = (a * d - b * c) / (a * d + b * c)\n",
        "\n",
        "print(f'Valor de Yule: {Yule_coefficient:.2f}')\n",
        "print(f'Valor de chi2: {chi2:.2f}')\n",
        "print(f'Valor p_valor (chi-cuadrado): {p_valor:.4f}')\n",
        "\n",
        "\n",
        "# Verificar el valor de p\n",
        "\n",
        "# Realizar una prueba de significancia (se puede ajustar el nivel de significancia )\n",
        "alfa = 0.05\n",
        "print (\"Hacer o no hace deporte, implica lesiones ?\")\n",
        "if p_valor < alfa:\n",
        "    print('Existe una asociación significativa entre las variables.')\n",
        "else:\n",
        "    print('No hay evidencia de una asociación significativa.')"
      ],
      "metadata": {
        "id": "tJULCic2Fggx",
        "colab": {
          "base_uri": "https://localhost:8080/"
        },
        "outputId": "d9c7dce9-4155-47ca-9952-427b3de92760"
      },
      "execution_count": null,
      "outputs": [
        {
          "output_type": "stream",
          "name": "stdout",
          "text": [
            "Aquí la tabla de contingencia, solo datos: \n",
            "\n",
            "\n",
            "[[ 8 19]\n",
            " [30 43]]\n",
            "\n",
            "\n",
            "Valor de Yule: -0.25\n",
            "Valor de chi2: 0.67\n",
            "Valor p_valor (chi-cuadrado): 0.4141\n",
            "Hacer o no hace deporte, implica lesiones ?\n",
            "No hay evidencia de una asociación significativa.\n"
          ]
        }
      ]
    },
    {
      "cell_type": "markdown",
      "source": [
        "## Visualizar el contraste chi cuadrad vs p.valor\n",
        "\n"
      ],
      "metadata": {
        "id": "4MHt95vNe-TU"
      }
    },
    {
      "cell_type": "code",
      "source": [
        "f_visualizar_chi_yule(chi2, alfa)\n",
        "\n",
        "\n"
      ],
      "metadata": {
        "id": "35GmvnxGfCNw",
        "colab": {
          "base_uri": "https://localhost:8080/",
          "height": 472
        },
        "outputId": "1ced36bb-3f20-444a-8db8-e61798415e2f"
      },
      "execution_count": null,
      "outputs": [
        {
          "output_type": "display_data",
          "data": {
            "text/plain": [
              "<Figure size 640x480 with 1 Axes>"
            ],
            "image/png": "[encoded data removed]"
          },
          "metadata": {}
        }
      ]
    },
    {
      "cell_type": "markdown",
      "source": [
        "# Interpretación\n",
        "\n",
        "\n",
        "Estas tablas se convirtieron a formato tablas cruzadas para representarlas visualmente a través de la función previamente codificada.\n",
        "\n",
        "Con los datos de las tablas de contingencias se construye la prueba de Yule.\n",
        "\n",
        "Con el ejercicio de deporte lesiones, se construye una tabla cruzada a partir de la carga de datos originales que simulan las respuestas de una encuesta que recaba si hace o no deporte y si tiene lesión o no.\n",
        "\n",
        "La tabla cruazada se utilzia para visualizar las barras combinadas.\n",
        "\n",
        "Luego en el ejercicio de la deporte-lesiones se extraen los valroes a,b,c,d de la tabla cruzada a tabla de solo datos que sirven para la prueba de Yule.\n",
        "\n",
        "La pruba de Yule se utiliza para representar la significación estadística entre dos variables catgóricas.\n",
        "\n",
        "El valor *p_value* en una prueba estadística de Yule, se utiliza para determinar si existe una relación estadísticamente significativa entre las variables categóricas que se analiza.\n",
        "\n",
        "En los ejercicios dependiendo de cada conteto y con estos datos simulados se obtuvieron estos resultados:\n",
        "\n",
        "Para el ejercicio de *género-alcohol* resultó que si hay evidencia para concluir que hay una relación significativa a la inversa entre el consumo de alcohol entre hombre y mujeres. Se observa que los hombres consumen más alcohol y estadísticamente se hizo la prueba que así lo demuestra.\n",
        "\n",
        "Luego en el ejercicio de estudiar y aprobar se encuentra que si hay relación estadística entre ambas variables; sin embargo es a la inversa, y analizando la tabla resulta que aprobaron muchos estudiantes sin haber estudiado.\n",
        "\n",
        "En el ejercicio de deporte y lesiones no se encontró alguna evidencia estadística entre deporte y lesiones.\n",
        "\n",
        "La representación visual de la distribución chi cuadrada representa el valor *p_valor* a partir del estadístico chi calculado con a prueba de Yule contrastado contra el valor crítico por la derecha al valor del alfa de 0.05.\n",
        "\n",
        "\n",
        "Si el valor de prueba *p_prueba* está por la izquierda del valor crítico de chi cuadrada por la derecha entonces se concluye que no hay evidencia estadística de relación entre dos variables categóricas.\n",
        "\n",
        "Con respecto a la representación visual de usando la distribución *chi cuadrada*; si el valor de chi calculado está visualmente por la izquierda del valor crítico de *chi cuadrada* cola a la derecha a 1 grado de libertad $gl$, entonces se concluye que no hay evidencia estadística de relación entre dos variables categóricas.\n",
        "\n",
        "$$\n",
        "Ho: \\text{No hay relación entre variables}\n",
        "$$\n",
        "\n",
        "$$\n",
        "Ha: \\text{Si hay relación entre variables}\n",
        "$$\n",
        "\n",
        "Condición para hipótesis con *chi cuadrada*:\n",
        "\n",
        "$$\n",
        "\\text{Si (chi calculado < chi critico): Se acepta Ho}\n",
        "$$\n",
        "\n",
        "$$\n",
        "\\text{Si (chi calculado  ≥ chi critico): Se rechaza Ho}\n",
        "$$\n",
        "\n",
        "\n",
        "Finalmente se concluye que la prueba de Yule es solo un elemento estadístico que mide la relación entre dos variables categóricas, es obligación y responsabilidad del analista investigador y científico de datos extraer los datos, la construcción de las tablas de contingencia y la realización de la prueba Yule así como la interpretación de la misma.  "
      ],
      "metadata": {
        "id": "t4STF3gFT1-M"
      }
    }
  ]
}